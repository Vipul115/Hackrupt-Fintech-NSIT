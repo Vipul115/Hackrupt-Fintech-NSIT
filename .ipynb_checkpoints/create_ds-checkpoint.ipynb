{
 "cells": [
  {
   "cell_type": "code",
   "execution_count": 87,
   "metadata": {
    "collapsed": true
   },
   "outputs": [],
   "source": [
    "import pandas as pd\n",
    "import numpy as np\n",
    "import random \n"
   ]
  },
  {
   "cell_type": "code",
   "execution_count": 143,
   "metadata": {
    "collapsed": true
   },
   "outputs": [],
   "source": [
    "reg_id = []\n",
    "ac_bal = []\n",
    "p_loans_no = []\n",
    "act_loans_no = []\n",
    "p_loans_no =[]\n",
    "act_loans_no = [] \n",
    "ref_no =[]\n",
    "fd = []"
   ]
  },
  {
   "cell_type": "code",
   "execution_count": 144,
   "metadata": {},
   "outputs": [],
   "source": [
    "def list_loan_gen(len,num):\n",
    "    x = []\n",
    "    if num == 0: \n",
    "        for i in range(0, len):\n",
    "            x.append(random.randint(0,1000)*10000) \n",
    "    else:\n",
    "        for i in range(0, len):\n",
    "            x.append(random.randint(1,5))\n",
    "    return x\n",
    "\n",
    "def twod_loan_gen(p_loans, num):\n",
    "    x = []\n",
    "    for i in p_loans:\n",
    "        x.append(list_loan_gen(i, num))\n",
    "    return x\n",
    "\n",
    "for i in range(0, 1000):\n",
    "    reg_id.append(random.randint(1000,9999))\n",
    "    ac_bal.append(int(random.random()*10000000))\n",
    "    p_loans_no.append(int(random.randint(0,5)))\n",
    "    act_loans_no.append(int(random.randint(0,1)))\n",
    "    ref_no.append(int(random.randint(0,3)))\n",
    "    fd.append(int(random.randint(0,100)*1000))\n",
    "ref = twod_loan_gen(ref_no, 1)\n",
    "p_loans = twod_loan_gen(p_loans_no, 0)\n",
    "act_loans = twod_loan_gen(act_loans_no, 0)\n"
   ]
  },
  {
   "cell_type": "code",
   "execution_count": 145,
   "metadata": {},
   "outputs": [
    {
     "data": {
      "text/html": [
       "<div>\n",
       "<style>\n",
       "    .dataframe thead tr:only-child th {\n",
       "        text-align: right;\n",
       "    }\n",
       "\n",
       "    .dataframe thead th {\n",
       "        text-align: left;\n",
       "    }\n",
       "\n",
       "    .dataframe tbody tr th {\n",
       "        vertical-align: top;\n",
       "    }\n",
       "</style>\n",
       "<table border=\"1\" class=\"dataframe\">\n",
       "  <thead>\n",
       "    <tr style=\"text-align: right;\">\n",
       "      <th></th>\n",
       "      <th>A/c Bal</th>\n",
       "      <th>Active Loans</th>\n",
       "      <th>Fixed Deposit</th>\n",
       "      <th>ID</th>\n",
       "      <th>Level of Referees</th>\n",
       "      <th>Paid Loans</th>\n",
       "    </tr>\n",
       "  </thead>\n",
       "  <tbody>\n",
       "    <tr>\n",
       "      <th>0</th>\n",
       "      <td>4528001</td>\n",
       "      <td>[8150000]</td>\n",
       "      <td>70000</td>\n",
       "      <td>7621</td>\n",
       "      <td>[]</td>\n",
       "      <td>[]</td>\n",
       "    </tr>\n",
       "    <tr>\n",
       "      <th>1</th>\n",
       "      <td>6820373</td>\n",
       "      <td>[]</td>\n",
       "      <td>57000</td>\n",
       "      <td>2183</td>\n",
       "      <td>[5]</td>\n",
       "      <td>[7470000, 3280000, 7590000]</td>\n",
       "    </tr>\n",
       "    <tr>\n",
       "      <th>2</th>\n",
       "      <td>662586</td>\n",
       "      <td>[]</td>\n",
       "      <td>76000</td>\n",
       "      <td>3754</td>\n",
       "      <td>[1]</td>\n",
       "      <td>[4820000]</td>\n",
       "    </tr>\n",
       "    <tr>\n",
       "      <th>3</th>\n",
       "      <td>3169778</td>\n",
       "      <td>[]</td>\n",
       "      <td>35000</td>\n",
       "      <td>9676</td>\n",
       "      <td>[4, 3]</td>\n",
       "      <td>[1060000, 160000, 9170000, 9710000, 5300000]</td>\n",
       "    </tr>\n",
       "    <tr>\n",
       "      <th>4</th>\n",
       "      <td>5003250</td>\n",
       "      <td>[9670000]</td>\n",
       "      <td>6000</td>\n",
       "      <td>3320</td>\n",
       "      <td>[4, 5]</td>\n",
       "      <td>[6670000, 310000]</td>\n",
       "    </tr>\n",
       "  </tbody>\n",
       "</table>\n",
       "</div>"
      ],
      "text/plain": [
       "   A/c Bal Active Loans  Fixed Deposit    ID Level of Referees  \\\n",
       "0  4528001    [8150000]          70000  7621                []   \n",
       "1  6820373           []          57000  2183               [5]   \n",
       "2   662586           []          76000  3754               [1]   \n",
       "3  3169778           []          35000  9676            [4, 3]   \n",
       "4  5003250    [9670000]           6000  3320            [4, 5]   \n",
       "\n",
       "                                     Paid Loans  \n",
       "0                                            []  \n",
       "1                   [7470000, 3280000, 7590000]  \n",
       "2                                     [4820000]  \n",
       "3  [1060000, 160000, 9170000, 9710000, 5300000]  \n",
       "4                             [6670000, 310000]  "
      ]
     },
     "execution_count": 145,
     "metadata": {},
     "output_type": "execute_result"
    }
   ],
   "source": [
    "df = pd.DataFrame(data={'ID':reg_id, 'A/c Bal':ac_bal, 'Paid Loans':p_loans, 'Active Loans':act_loans, 'Level of Referees':ref, 'Fixed Deposit':fd})\n",
    "df.head()"
   ]
  },
  {
   "cell_type": "code",
   "execution_count": null,
   "metadata": {
    "collapsed": true
   },
   "outputs": [],
   "source": []
  }
 ],
 "metadata": {
  "kernelspec": {
   "display_name": "Python 3",
   "language": "python",
   "name": "python3"
  },
  "language_info": {
   "codemirror_mode": {
    "name": "ipython",
    "version": 3
   },
   "file_extension": ".py",
   "mimetype": "text/x-python",
   "name": "python",
   "nbconvert_exporter": "python",
   "pygments_lexer": "ipython3",
   "version": "3.6.2"
  }
 },
 "nbformat": 4,
 "nbformat_minor": 2
}
