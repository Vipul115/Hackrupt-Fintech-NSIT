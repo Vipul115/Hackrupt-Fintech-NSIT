{
 "cells": [
  {
   "cell_type": "code",
   "execution_count": 87,
   "metadata": {
    "collapsed": true
   },
   "outputs": [],
   "source": [
    "import pandas as pd\n",
    "import numpy as np\n",
    "import random \n"
   ]
  },
  {
   "cell_type": "code",
   "execution_count": 88,
   "metadata": {
    "collapsed": true
   },
   "outputs": [],
   "source": [
    "reg_id = []\n",
    "ac_bal = []\n",
    "p_loans_no = []\n",
    "act_loans_no = []\n",
    "p_loans =[]\n",
    "act_loans = [] "
   ]
  },
  {
   "cell_type": "code",
   "execution_count": 89,
   "metadata": {},
   "outputs": [],
   "source": [
    "def list_gen(len):\n",
    "    x = []\n",
    "    for i in range(0,len):\n",
    "        x.append(random.randint(0,1000)*10000) \n",
    "    return x\n",
    "\n",
    "def loan_amt(p_loans):\n",
    "    x = []\n",
    "    for i in p_loans:\n",
    "        x.append(list_gen(i))\n",
    "    return x\n",
    "\n",
    "for i in range(0, 1000):\n",
    "    reg_id.append(random.randint(1000,9999))\n",
    "    ac_bal.append(int(random.random()*10000000))\n",
    "    p_loans_no.append(int(random.random()*5))\n",
    "    act_loans_no.append(int(random.randint(0,1)))\n",
    "p_loans = loan_amt(p_loans_no)\n",
    "act_loans = loan_amt(act_loans_no)"
   ]
  },
  {
   "cell_type": "code",
   "execution_count": 93,
   "metadata": {},
   "outputs": [
    {
     "data": {
      "text/plain": [
       "1000"
      ]
     },
     "execution_count": 93,
     "metadata": {},
     "output_type": "execute_result"
    }
   ],
   "source": [
    "len(p_loans)"
   ]
  },
  {
   "cell_type": "code",
   "execution_count": 94,
   "metadata": {},
   "outputs": [
    {
     "data": {
      "text/html": [
       "<div>\n",
       "<style>\n",
       "    .dataframe thead tr:only-child th {\n",
       "        text-align: right;\n",
       "    }\n",
       "\n",
       "    .dataframe thead th {\n",
       "        text-align: left;\n",
       "    }\n",
       "\n",
       "    .dataframe tbody tr th {\n",
       "        vertical-align: top;\n",
       "    }\n",
       "</style>\n",
       "<table border=\"1\" class=\"dataframe\">\n",
       "  <thead>\n",
       "    <tr style=\"text-align: right;\">\n",
       "      <th></th>\n",
       "      <th>A/c Bal</th>\n",
       "      <th>Active Loans</th>\n",
       "      <th>Paid Loans</th>\n",
       "      <th>Reg ID</th>\n",
       "    </tr>\n",
       "  </thead>\n",
       "  <tbody>\n",
       "    <tr>\n",
       "      <th>0</th>\n",
       "      <td>7227788</td>\n",
       "      <td>[]</td>\n",
       "      <td>[4910000, 2610000]</td>\n",
       "      <td>7527</td>\n",
       "    </tr>\n",
       "    <tr>\n",
       "      <th>1</th>\n",
       "      <td>5787666</td>\n",
       "      <td>[]</td>\n",
       "      <td>[210000, 7520000, 1620000, 9470000]</td>\n",
       "      <td>3875</td>\n",
       "    </tr>\n",
       "    <tr>\n",
       "      <th>2</th>\n",
       "      <td>5812735</td>\n",
       "      <td>[]</td>\n",
       "      <td>[9800000]</td>\n",
       "      <td>1058</td>\n",
       "    </tr>\n",
       "    <tr>\n",
       "      <th>3</th>\n",
       "      <td>1804772</td>\n",
       "      <td>[]</td>\n",
       "      <td>[4430000, 8860000]</td>\n",
       "      <td>4950</td>\n",
       "    </tr>\n",
       "    <tr>\n",
       "      <th>4</th>\n",
       "      <td>7239025</td>\n",
       "      <td>[2860000]</td>\n",
       "      <td>[]</td>\n",
       "      <td>2958</td>\n",
       "    </tr>\n",
       "  </tbody>\n",
       "</table>\n",
       "</div>"
      ],
      "text/plain": [
       "   A/c Bal Active Loans                           Paid Loans  Reg ID\n",
       "0  7227788           []                   [4910000, 2610000]    7527\n",
       "1  5787666           []  [210000, 7520000, 1620000, 9470000]    3875\n",
       "2  5812735           []                            [9800000]    1058\n",
       "3  1804772           []                   [4430000, 8860000]    4950\n",
       "4  7239025    [2860000]                                   []    2958"
      ]
     },
     "execution_count": 94,
     "metadata": {},
     "output_type": "execute_result"
    }
   ],
   "source": [
    "df = pd.DataFrame(data={'Reg ID':reg_id, 'A/c Bal':ac_bal, 'Paid Loans':p_loans, 'Active Loans':act_loans})\n",
    "df.head()"
   ]
  },
  {
   "cell_type": "code",
   "execution_count": null,
   "metadata": {
    "collapsed": true
   },
   "outputs": [],
   "source": []
  }
 ],
 "metadata": {
  "kernelspec": {
   "display_name": "Python 3",
   "language": "python",
   "name": "python3"
  },
  "language_info": {
   "codemirror_mode": {
    "name": "ipython",
    "version": 3
   },
   "file_extension": ".py",
   "mimetype": "text/x-python",
   "name": "python",
   "nbconvert_exporter": "python",
   "pygments_lexer": "ipython3",
   "version": "3.6.2"
  }
 },
 "nbformat": 4,
 "nbformat_minor": 2
}
