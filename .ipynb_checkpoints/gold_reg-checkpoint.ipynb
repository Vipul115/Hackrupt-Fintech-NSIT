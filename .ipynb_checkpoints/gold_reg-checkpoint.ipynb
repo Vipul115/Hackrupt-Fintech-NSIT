{
 "cells": [
  {
   "cell_type": "code",
   "execution_count": 1,
   "metadata": {
    "collapsed": true
   },
   "outputs": [],
   "source": [
    "import sklearn.linear_model\n",
    "import pandas as pd\n",
    "import numpy as np\n",
    "import matplotlib.pyplot as plt\n"
   ]
  },
  {
   "cell_type": "code",
   "execution_count": 2,
   "metadata": {
    "scrolled": true
   },
   "outputs": [
    {
     "data": {
      "text/html": [
       "<div>\n",
       "<style>\n",
       "    .dataframe thead tr:only-child th {\n",
       "        text-align: right;\n",
       "    }\n",
       "\n",
       "    .dataframe thead th {\n",
       "        text-align: left;\n",
       "    }\n",
       "\n",
       "    .dataframe tbody tr th {\n",
       "        vertical-align: top;\n",
       "    }\n",
       "</style>\n",
       "<table border=\"1\" class=\"dataframe\">\n",
       "  <thead>\n",
       "    <tr style=\"text-align: right;\">\n",
       "      <th></th>\n",
       "      <th>Date</th>\n",
       "      <th>Price</th>\n",
       "    </tr>\n",
       "  </thead>\n",
       "  <tbody>\n",
       "    <tr>\n",
       "      <th>0</th>\n",
       "      <td>03-01-1997</td>\n",
       "      <td>13,064.0</td>\n",
       "    </tr>\n",
       "    <tr>\n",
       "      <th>1</th>\n",
       "      <td>06-01-1997</td>\n",
       "      <td>12,863.0</td>\n",
       "    </tr>\n",
       "    <tr>\n",
       "      <th>2</th>\n",
       "      <td>07-01-1997</td>\n",
       "      <td>12,886.3</td>\n",
       "    </tr>\n",
       "    <tr>\n",
       "      <th>3</th>\n",
       "      <td>08-01-1997</td>\n",
       "      <td>12,793.0</td>\n",
       "    </tr>\n",
       "    <tr>\n",
       "      <th>4</th>\n",
       "      <td>09-01-1997</td>\n",
       "      <td>12,788.9</td>\n",
       "    </tr>\n",
       "  </tbody>\n",
       "</table>\n",
       "</div>"
      ],
      "text/plain": [
       "         Date     Price\n",
       "0  03-01-1997  13,064.0\n",
       "1  06-01-1997  12,863.0\n",
       "2  07-01-1997  12,886.3\n",
       "3  08-01-1997  12,793.0\n",
       "4  09-01-1997  12,788.9"
      ]
     },
     "execution_count": 2,
     "metadata": {},
     "output_type": "execute_result"
    }
   ],
   "source": [
    "df = pd.read_csv('Prices.csv')\n",
    "df = df[df.columns[~df.columns.str.contains('Unnamed:')]]\n",
    "df.columns = ['Date', 'Price']\n",
    "df.head()\n"
   ]
  },
  {
   "cell_type": "code",
   "execution_count": 3,
   "metadata": {
    "collapsed": true
   },
   "outputs": [],
   "source": [
    "x = [i for i in range(0,len(df['Price']))] "
   ]
  },
  {
   "cell_type": "code",
   "execution_count": 4,
   "metadata": {
    "scrolled": true
   },
   "outputs": [
    {
     "name": "stdout",
     "output_type": "stream",
     "text": [
      "0       13,064.0\n",
      "1       12,863.0\n",
      "2       12,886.3\n",
      "3       12,793.0\n",
      "4       12,788.9\n",
      "5       12,843.3\n",
      "6       12,895.2\n",
      "7       12,812.2\n",
      "8       12,706.5\n",
      "9       12,659.5\n",
      "10      12,752.6\n",
      "11      12,658.6\n",
      "12      12,718.1\n",
      "13      12,592.6\n",
      "14      12,468.8\n",
      "15      12,635.4\n",
      "16      12,674.8\n",
      "17      12,684.6\n",
      "18      12,590.4\n",
      "19      12,531.1\n",
      "20      12,394.8\n",
      "21      12,350.0\n",
      "22      12,391.6\n",
      "23      12,319.5\n",
      "24      12,296.2\n",
      "25      12,181.7\n",
      "26      12,208.4\n",
      "27      12,172.6\n",
      "28      12,111.6\n",
      "29      12,313.8\n",
      "          ...   \n",
      "5466    80,924.2\n",
      "5467    80,755.3\n",
      "5468    81,041.8\n",
      "5469    81,027.6\n",
      "5470    81,022.9\n",
      "5471    81,022.9\n",
      "5472    81,070.3\n",
      "5473    82,087.9\n",
      "5474    82,761.2\n",
      "5475    82,401.3\n",
      "5476    82,401.3\n",
      "5477    83,245.3\n",
      "5478    83,548.7\n",
      "5479    83,334.4\n",
      "5480    83,462.8\n",
      "5481    83,674.9\n",
      "5482    83,495.9\n",
      "5483    83,944.3\n",
      "5484    84,228.6\n",
      "5485    84,417.6\n",
      "5486    84,983.8\n",
      "5487    85,426.4\n",
      "5488    85,296.3\n",
      "5489    85,046.0\n",
      "5490    85,149.8\n",
      "5491    85,084.8\n",
      "5492    85,064.2\n",
      "5493    86,195.1\n",
      "5494    86,151.1\n",
      "5495    86,036.6\n",
      "Name: Price, Length: 5496, dtype: object\n"
     ]
    }
   ],
   "source": [
    "print(df['Price'])\n"
   ]
  },
  {
   "cell_type": "code",
   "execution_count": 5,
   "metadata": {},
   "outputs": [
    {
     "data": {
      "text/plain": [
       "float"
      ]
     },
     "execution_count": 5,
     "metadata": {},
     "output_type": "execute_result"
    }
   ],
   "source": [
    "new_price = []\n",
    "for i in df['Price']:\n",
    "    i = i[:2]+i[3:8]\n",
    "    i = float(i)\n",
    "    new_price.append(i)    \n",
    "type(new_price[0])"
   ]
  },
  {
   "cell_type": "code",
   "execution_count": 6,
   "metadata": {
    "collapsed": true
   },
   "outputs": [],
   "source": [
    "#price = df['Price'].tolist()"
   ]
  },
  {
   "cell_type": "code",
   "execution_count": null,
   "metadata": {
    "collapsed": true
   },
   "outputs": [],
   "source": []
  },
  {
   "cell_type": "code",
   "execution_count": 7,
   "metadata": {},
   "outputs": [
    {
     "data": {
      "image/png": "[encoded data removed]",
      "text/plain": [
       "<matplotlib.figure.Figure at 0x1aa915679b0>"
      ]
     },
     "metadata": {},
     "output_type": "display_data"
    }
   ],
   "source": [
    "fig = plt.figure(1)\n",
    "axes = fig.add_subplot(111)\n",
    "axes.scatter(x, new_price, s= 2)\n",
    "plt.show()"
   ]
  },
  {
   "cell_type": "code",
   "execution_count": null,
   "metadata": {
    "collapsed": true
   },
   "outputs": [],
   "source": []
  }
 ],
 "metadata": {
  "kernelspec": {
   "display_name": "Python 3",
   "language": "python",
   "name": "python3"
  },
  "language_info": {
   "codemirror_mode": {
    "name": "ipython",
    "version": 3
   },
   "file_extension": ".py",
   "mimetype": "text/x-python",
   "name": "python",
   "nbconvert_exporter": "python",
   "pygments_lexer": "ipython3",
   "version": "3.6.2"
  }
 },
 "nbformat": 4,
 "nbformat_minor": 2
}
