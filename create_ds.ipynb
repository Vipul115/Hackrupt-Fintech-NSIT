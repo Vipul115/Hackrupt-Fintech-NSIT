{
 "cells": [
  {
   "cell_type": "code",
   "execution_count": 156,
   "metadata": {
    "collapsed": true
   },
   "outputs": [],
   "source": [
    "import pandas as pd\n",
    "import numpy as np\n",
    "import random \n"
   ]
  },
  {
   "cell_type": "code",
   "execution_count": 157,
   "metadata": {
    "collapsed": true
   },
   "outputs": [],
   "source": [
    "reg_id = []\n",
    "ac_bal = []\n",
    "p_loans_no = []\n",
    "act_loans_no = []\n",
    "p_loans_no =[]\n",
    "act_loans_no = [] \n",
    "ref_no =[]\n",
    "fd = []"
   ]
  },
  {
   "cell_type": "code",
   "execution_count": 158,
   "metadata": {},
   "outputs": [],
   "source": [
    "def list_loan_gen(len,num):\n",
    "    x = []\n",
    "    if num == 0: \n",
    "        for i in range(0, len):\n",
    "            x.append(random.randint(0,1000)*10000) \n",
    "    else:\n",
    "        for i in range(0, len):\n",
    "            x.append(random.randint(1,5))\n",
    "    return x\n",
    "\n",
    "def twoD_loan_gen(p_loans, num):\n",
    "    x = []\n",
    "    for i in p_loans:\n",
    "        x.append(list_loan_gen(i, num))\n",
    "    return x\n",
    "\n",
    "for i in range(0, 1000):\n",
    "    reg_id.append(random.randint(1000,9999))\n",
    "    ac_bal.append(int(random.random()*10000000))\n",
    "    p_loans_no.append(int(random.randint(0,5)))\n",
    "    act_loans_no.append(int(random.randint(0,1)))\n",
    "    ref_no.append(int(random.randint(0,3)))\n",
    "    fd.append(int(random.randint(0,100)*1000))\n",
    "ref = twoD_loan_gen(ref_no, 1)\n",
    "p_loans = twoD_loan_gen(p_loans_no, 0)\n",
    "act_loans = twoD_loan_gen(act_loans_no, 0)\n"
   ]
  },
  {
   "cell_type": "code",
   "execution_count": 159,
   "metadata": {},
   "outputs": [
    {
     "data": {
      "text/html": [
       "<div>\n",
       "<style>\n",
       "    .dataframe thead tr:only-child th {\n",
       "        text-align: right;\n",
       "    }\n",
       "\n",
       "    .dataframe thead th {\n",
       "        text-align: left;\n",
       "    }\n",
       "\n",
       "    .dataframe tbody tr th {\n",
       "        vertical-align: top;\n",
       "    }\n",
       "</style>\n",
       "<table border=\"1\" class=\"dataframe\">\n",
       "  <thead>\n",
       "    <tr style=\"text-align: right;\">\n",
       "      <th></th>\n",
       "      <th>A/c Bal</th>\n",
       "      <th>Active Loans</th>\n",
       "      <th>Fixed Deposit</th>\n",
       "      <th>ID</th>\n",
       "      <th>Level of Referees</th>\n",
       "      <th>Paid Loans</th>\n",
       "    </tr>\n",
       "  </thead>\n",
       "  <tbody>\n",
       "    <tr>\n",
       "      <th>0</th>\n",
       "      <td>7802472</td>\n",
       "      <td>[830000]</td>\n",
       "      <td>47000</td>\n",
       "      <td>7093</td>\n",
       "      <td>[4, 3]</td>\n",
       "      <td>[2560000, 1500000, 4210000]</td>\n",
       "    </tr>\n",
       "    <tr>\n",
       "      <th>1</th>\n",
       "      <td>4047435</td>\n",
       "      <td>[]</td>\n",
       "      <td>65000</td>\n",
       "      <td>7821</td>\n",
       "      <td>[3, 4, 1]</td>\n",
       "      <td>[8380000, 1130000, 3830000, 1320000, 480000]</td>\n",
       "    </tr>\n",
       "    <tr>\n",
       "      <th>2</th>\n",
       "      <td>6040414</td>\n",
       "      <td>[]</td>\n",
       "      <td>100000</td>\n",
       "      <td>3077</td>\n",
       "      <td>[4, 1]</td>\n",
       "      <td>[3570000, 5570000, 8120000]</td>\n",
       "    </tr>\n",
       "    <tr>\n",
       "      <th>3</th>\n",
       "      <td>5989314</td>\n",
       "      <td>[7550000]</td>\n",
       "      <td>45000</td>\n",
       "      <td>4443</td>\n",
       "      <td>[2, 5]</td>\n",
       "      <td>[8530000, 5120000, 6080000]</td>\n",
       "    </tr>\n",
       "    <tr>\n",
       "      <th>4</th>\n",
       "      <td>9777921</td>\n",
       "      <td>[4610000]</td>\n",
       "      <td>86000</td>\n",
       "      <td>3117</td>\n",
       "      <td>[]</td>\n",
       "      <td>[860000, 4040000, 2170000]</td>\n",
       "    </tr>\n",
       "  </tbody>\n",
       "</table>\n",
       "</div>"
      ],
      "text/plain": [
       "   A/c Bal Active Loans  Fixed Deposit    ID Level of Referees  \\\n",
       "0  7802472     [830000]          47000  7093            [4, 3]   \n",
       "1  4047435           []          65000  7821         [3, 4, 1]   \n",
       "2  6040414           []         100000  3077            [4, 1]   \n",
       "3  5989314    [7550000]          45000  4443            [2, 5]   \n",
       "4  9777921    [4610000]          86000  3117                []   \n",
       "\n",
       "                                     Paid Loans  \n",
       "0                   [2560000, 1500000, 4210000]  \n",
       "1  [8380000, 1130000, 3830000, 1320000, 480000]  \n",
       "2                   [3570000, 5570000, 8120000]  \n",
       "3                   [8530000, 5120000, 6080000]  \n",
       "4                    [860000, 4040000, 2170000]  "
      ]
     },
     "execution_count": 159,
     "metadata": {},
     "output_type": "execute_result"
    }
   ],
   "source": [
    "df = pd.DataFrame(data={'ID':reg_id, 'A/c Bal':ac_bal, 'Paid Loans':p_loans, 'Active Loans':act_loans, 'Level of Referees':ref, 'Fixed Deposit':fd})\n",
    "df.head()"
   ]
  },
  {
   "cell_type": "code",
   "execution_count": 160,
   "metadata": {},
   "outputs": [
    {
     "data": {
      "text/html": [
       "<div>\n",
       "<style>\n",
       "    .dataframe thead tr:only-child th {\n",
       "        text-align: right;\n",
       "    }\n",
       "\n",
       "    .dataframe thead th {\n",
       "        text-align: left;\n",
       "    }\n",
       "\n",
       "    .dataframe tbody tr th {\n",
       "        vertical-align: top;\n",
       "    }\n",
       "</style>\n",
       "<table border=\"1\" class=\"dataframe\">\n",
       "  <thead>\n",
       "    <tr style=\"text-align: right;\">\n",
       "      <th></th>\n",
       "      <th>ID</th>\n",
       "      <th>A/c Bal</th>\n",
       "      <th>Fixed Deposit</th>\n",
       "      <th>Active Loans</th>\n",
       "      <th>Level of Referees</th>\n",
       "      <th>Paid Loans</th>\n",
       "    </tr>\n",
       "  </thead>\n",
       "  <tbody>\n",
       "    <tr>\n",
       "      <th>0</th>\n",
       "      <td>7093</td>\n",
       "      <td>7802472</td>\n",
       "      <td>47000</td>\n",
       "      <td>[830000]</td>\n",
       "      <td>[4, 3]</td>\n",
       "      <td>[2560000, 1500000, 4210000]</td>\n",
       "    </tr>\n",
       "    <tr>\n",
       "      <th>1</th>\n",
       "      <td>7821</td>\n",
       "      <td>4047435</td>\n",
       "      <td>65000</td>\n",
       "      <td>[]</td>\n",
       "      <td>[3, 4, 1]</td>\n",
       "      <td>[8380000, 1130000, 3830000, 1320000, 480000]</td>\n",
       "    </tr>\n",
       "    <tr>\n",
       "      <th>2</th>\n",
       "      <td>3077</td>\n",
       "      <td>6040414</td>\n",
       "      <td>100000</td>\n",
       "      <td>[]</td>\n",
       "      <td>[4, 1]</td>\n",
       "      <td>[3570000, 5570000, 8120000]</td>\n",
       "    </tr>\n",
       "    <tr>\n",
       "      <th>3</th>\n",
       "      <td>4443</td>\n",
       "      <td>5989314</td>\n",
       "      <td>45000</td>\n",
       "      <td>[7550000]</td>\n",
       "      <td>[2, 5]</td>\n",
       "      <td>[8530000, 5120000, 6080000]</td>\n",
       "    </tr>\n",
       "    <tr>\n",
       "      <th>4</th>\n",
       "      <td>3117</td>\n",
       "      <td>9777921</td>\n",
       "      <td>86000</td>\n",
       "      <td>[4610000]</td>\n",
       "      <td>[]</td>\n",
       "      <td>[860000, 4040000, 2170000]</td>\n",
       "    </tr>\n",
       "  </tbody>\n",
       "</table>\n",
       "</div>"
      ],
      "text/plain": [
       "     ID  A/c Bal  Fixed Deposit Active Loans Level of Referees  \\\n",
       "0  7093  7802472          47000     [830000]            [4, 3]   \n",
       "1  7821  4047435          65000           []         [3, 4, 1]   \n",
       "2  3077  6040414         100000           []            [4, 1]   \n",
       "3  4443  5989314          45000    [7550000]            [2, 5]   \n",
       "4  3117  9777921          86000    [4610000]                []   \n",
       "\n",
       "                                     Paid Loans  \n",
       "0                   [2560000, 1500000, 4210000]  \n",
       "1  [8380000, 1130000, 3830000, 1320000, 480000]  \n",
       "2                   [3570000, 5570000, 8120000]  \n",
       "3                   [8530000, 5120000, 6080000]  \n",
       "4                    [860000, 4040000, 2170000]  "
      ]
     },
     "execution_count": 160,
     "metadata": {},
     "output_type": "execute_result"
    }
   ],
   "source": [
    "cols = df.columns.tolist()\n",
    "cols = ['ID', 'A/c Bal', 'Fixed Deposit', 'Active Loans', 'Level of Referees', 'Paid Loans']\n",
    "df = df[cols]\n",
    "df.head()"
   ]
  },
  {
   "cell_type": "code",
   "execution_count": 161,
   "metadata": {
    "collapsed": true
   },
   "outputs": [],
   "source": [
    "df.to_csv('dataset.csv')"
   ]
  },
  {
   "cell_type": "code",
   "execution_count": null,
   "metadata": {
    "collapsed": true
   },
   "outputs": [],
   "source": []
  }
 ],
 "metadata": {
  "kernelspec": {
   "display_name": "Python 3",
   "language": "python",
   "name": "python3"
  },
  "language_info": {
   "codemirror_mode": {
    "name": "ipython",
    "version": 3
   },
   "file_extension": ".py",
   "mimetype": "text/x-python",
   "name": "python",
   "nbconvert_exporter": "python",
   "pygments_lexer": "ipython3",
   "version": "3.6.2"
  }
 },
 "nbformat": 4,
 "nbformat_minor": 2
}
