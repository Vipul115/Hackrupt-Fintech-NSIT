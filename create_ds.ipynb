{
 "cells": [
  {
   "cell_type": "code",
   "execution_count": 87,
   "metadata": {
    "collapsed": true
   },
   "outputs": [],
   "source": [
    "import pandas as pd\n",
    "import numpy as np\n",
    "import random \n"
   ]
  },
  {
   "cell_type": "code",
   "execution_count": 127,
   "metadata": {
    "collapsed": true
   },
   "outputs": [],
   "source": [
    "reg_id = []\n",
    "ac_bal = []\n",
    "p_loans_no = []\n",
    "act_loans_no = []\n",
    "p_loans_no =[]\n",
    "act_loans_no = [] \n",
    "ref_no =[]\n",
    "fd = []"
   ]
  },
  {
   "cell_type": "code",
   "execution_count": 129,
   "metadata": {},
   "outputs": [],
   "source": [
    "def list_loan_gen(len,num):\n",
    "    x = []\n",
    "    if num == 1: \n",
    "        for i in range(0, len):\n",
    "            x.append(random.randint(0,1000)*10000) \n",
    "    else:\n",
    "        for i in range(0, len):\n",
    "            x.append(random.randint(1,5))\n",
    "    return x\n",
    "\n",
    "\"\"\"def ref_power_gen(len):\n",
    "    x = []\n",
    "    \n",
    "    return x \"\"\"   \n",
    "\n",
    "def twod_ref_gen(ref_pow, num):\n",
    "    x =[]\n",
    "    for i in ref_pow:\n",
    "        x.append(list_loan_gen(i), num)\n",
    "    return x\n",
    "\n",
    "def twod_loan_gen(p_loans, num):\n",
    "    x = []\n",
    "    for i in p_loans:\n",
    "        x.append(list_loan_gen(i, num))\n",
    "    return x\n",
    "\n",
    "for i in range(0, 1000):\n",
    "    reg_id.append(random.randint(1000,9999))\n",
    "    ac_bal.append(int(random.random()*10000000))\n",
    "    p_loans_no.append(int(random.randint(0,5)))\n",
    "    act_loans_no.append(int(random.randint(0,1)))\n",
    "    ref_no.append(int(random.randint(0,3)))\n",
    "    fd.append(int(random.randint(0,10)))\n",
    "ref = twod_loan_gen(ref_no, 1)\n",
    "p_loans = twod_loan_gen(p_loans_no, 0)\n",
    "act_loans = twod_loan_gen(act_loans_no, 0)\n"
   ]
  },
  {
   "cell_type": "code",
   "execution_count": 130,
   "metadata": {},
   "outputs": [
    {
     "data": {
      "text/html": [
       "<div>\n",
       "<style>\n",
       "    .dataframe thead tr:only-child th {\n",
       "        text-align: right;\n",
       "    }\n",
       "\n",
       "    .dataframe thead th {\n",
       "        text-align: left;\n",
       "    }\n",
       "\n",
       "    .dataframe tbody tr th {\n",
       "        vertical-align: top;\n",
       "    }\n",
       "</style>\n",
       "<table border=\"1\" class=\"dataframe\">\n",
       "  <thead>\n",
       "    <tr style=\"text-align: right;\">\n",
       "      <th></th>\n",
       "      <th>A/c Bal</th>\n",
       "      <th>Active Loans</th>\n",
       "      <th>Level of Referees</th>\n",
       "      <th>Paid Loans</th>\n",
       "      <th>Reg ID</th>\n",
       "    </tr>\n",
       "  </thead>\n",
       "  <tbody>\n",
       "    <tr>\n",
       "      <th>0</th>\n",
       "      <td>9983691</td>\n",
       "      <td>[1]</td>\n",
       "      <td>[140000]</td>\n",
       "      <td>[1, 1, 3]</td>\n",
       "      <td>2779</td>\n",
       "    </tr>\n",
       "    <tr>\n",
       "      <th>1</th>\n",
       "      <td>8095316</td>\n",
       "      <td>[1]</td>\n",
       "      <td>[7200000]</td>\n",
       "      <td>[]</td>\n",
       "      <td>7086</td>\n",
       "    </tr>\n",
       "    <tr>\n",
       "      <th>2</th>\n",
       "      <td>1060371</td>\n",
       "      <td>[]</td>\n",
       "      <td>[]</td>\n",
       "      <td>[]</td>\n",
       "      <td>8430</td>\n",
       "    </tr>\n",
       "    <tr>\n",
       "      <th>3</th>\n",
       "      <td>2739194</td>\n",
       "      <td>[]</td>\n",
       "      <td>[7190000, 8940000]</td>\n",
       "      <td>[5, 3, 4, 3, 5]</td>\n",
       "      <td>2875</td>\n",
       "    </tr>\n",
       "    <tr>\n",
       "      <th>4</th>\n",
       "      <td>9126956</td>\n",
       "      <td>[]</td>\n",
       "      <td>[8240000]</td>\n",
       "      <td>[5, 1, 2]</td>\n",
       "      <td>1794</td>\n",
       "    </tr>\n",
       "  </tbody>\n",
       "</table>\n",
       "</div>"
      ],
      "text/plain": [
       "   A/c Bal Active Loans   Level of Referees       Paid Loans  Reg ID\n",
       "0  9983691          [1]            [140000]        [1, 1, 3]    2779\n",
       "1  8095316          [1]           [7200000]               []    7086\n",
       "2  1060371           []                  []               []    8430\n",
       "3  2739194           []  [7190000, 8940000]  [5, 3, 4, 3, 5]    2875\n",
       "4  9126956           []           [8240000]        [5, 1, 2]    1794"
      ]
     },
     "execution_count": 130,
     "metadata": {},
     "output_type": "execute_result"
    }
   ],
   "source": [
    "df = pd.DataFrame(data={'Reg ID':reg_id, 'A/c Bal':ac_bal, 'Paid Loans':p_loans, 'Active Loans':act_loans, 'Level of Referees':ref})\n",
    "df.head()"
   ]
  },
  {
   "cell_type": "code",
   "execution_count": null,
   "metadata": {
    "collapsed": true
   },
   "outputs": [],
   "source": []
  }
 ],
 "metadata": {
  "kernelspec": {
   "display_name": "Python 3",
   "language": "python",
   "name": "python3"
  },
  "language_info": {
   "codemirror_mode": {
    "name": "ipython",
    "version": 3
   },
   "file_extension": ".py",
   "mimetype": "text/x-python",
   "name": "python",
   "nbconvert_exporter": "python",
   "pygments_lexer": "ipython3",
   "version": "3.6.2"
  }
 },
 "nbformat": 4,
 "nbformat_minor": 2
}
