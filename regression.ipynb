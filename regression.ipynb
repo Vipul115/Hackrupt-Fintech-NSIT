{
 "cells": [
  {
   "cell_type": "code",
   "execution_count": 2,
   "metadata": {
    "collapsed": true
   },
   "outputs": [],
   "source": [
    "import sklearn.linear_model\n",
    "import pandas as pd\n",
    "import numpy as np"
   ]
  },
  {
   "cell_type": "code",
   "execution_count": 9,
   "metadata": {},
   "outputs": [
    {
     "data": {
      "text/html": [
       "<div>\n",
       "<style>\n",
       "    .dataframe thead tr:only-child th {\n",
       "        text-align: right;\n",
       "    }\n",
       "\n",
       "    .dataframe thead th {\n",
       "        text-align: left;\n",
       "    }\n",
       "\n",
       "    .dataframe tbody tr th {\n",
       "        vertical-align: top;\n",
       "    }\n",
       "</style>\n",
       "<table border=\"1\" class=\"dataframe\">\n",
       "  <thead>\n",
       "    <tr style=\"text-align: right;\">\n",
       "      <th></th>\n",
       "      <th>ID</th>\n",
       "      <th>A/c Bal</th>\n",
       "      <th>Fixed Deposit</th>\n",
       "      <th>Active Loans</th>\n",
       "      <th>Level of Referees</th>\n",
       "      <th>Paid Loans</th>\n",
       "    </tr>\n",
       "  </thead>\n",
       "  <tbody>\n",
       "    <tr>\n",
       "      <th>0</th>\n",
       "      <td>5015</td>\n",
       "      <td>9478671</td>\n",
       "      <td>42000</td>\n",
       "      <td>[1300000]</td>\n",
       "      <td>[2, 2]</td>\n",
       "      <td>[8590000]</td>\n",
       "    </tr>\n",
       "    <tr>\n",
       "      <th>1</th>\n",
       "      <td>2367</td>\n",
       "      <td>5175151</td>\n",
       "      <td>43000</td>\n",
       "      <td>[8000000]</td>\n",
       "      <td>[]</td>\n",
       "      <td>[]</td>\n",
       "    </tr>\n",
       "    <tr>\n",
       "      <th>2</th>\n",
       "      <td>2772</td>\n",
       "      <td>5804462</td>\n",
       "      <td>23000</td>\n",
       "      <td>[9620000]</td>\n",
       "      <td>[3]</td>\n",
       "      <td>[4440000, 7540000, 9110000]</td>\n",
       "    </tr>\n",
       "    <tr>\n",
       "      <th>3</th>\n",
       "      <td>3972</td>\n",
       "      <td>3948545</td>\n",
       "      <td>23000</td>\n",
       "      <td>[]</td>\n",
       "      <td>[1, 2, 1]</td>\n",
       "      <td>[]</td>\n",
       "    </tr>\n",
       "    <tr>\n",
       "      <th>4</th>\n",
       "      <td>8546</td>\n",
       "      <td>7710633</td>\n",
       "      <td>57000</td>\n",
       "      <td>[]</td>\n",
       "      <td>[]</td>\n",
       "      <td>[6310000, 9730000]</td>\n",
       "    </tr>\n",
       "  </tbody>\n",
       "</table>\n",
       "</div>"
      ],
      "text/plain": [
       "     ID  A/c Bal  Fixed Deposit Active Loans Level of Referees  \\\n",
       "0  5015  9478671          42000    [1300000]            [2, 2]   \n",
       "1  2367  5175151          43000    [8000000]                []   \n",
       "2  2772  5804462          23000    [9620000]               [3]   \n",
       "3  3972  3948545          23000           []         [1, 2, 1]   \n",
       "4  8546  7710633          57000           []                []   \n",
       "\n",
       "                    Paid Loans  \n",
       "0                    [8590000]  \n",
       "1                           []  \n",
       "2  [4440000, 7540000, 9110000]  \n",
       "3                           []  \n",
       "4           [6310000, 9730000]  "
      ]
     },
     "execution_count": 9,
     "metadata": {},
     "output_type": "execute_result"
    }
   ],
   "source": [
    "df = pd.read_csv('dataset.csv')\n",
    "df = df.drop('Unnamed: 0',1)\n",
    "df.head()\n",
    "\n"
   ]
  },
  {
   "cell_type": "code",
   "execution_count": null,
   "metadata": {
    "collapsed": true
   },
   "outputs": [],
   "source": [
    "X_train,y_trai"
   ]
  }
 ],
 "metadata": {
  "kernelspec": {
   "display_name": "Python 3",
   "language": "python",
   "name": "python3"
  },
  "language_info": {
   "codemirror_mode": {
    "name": "ipython",
    "version": 3
   },
   "file_extension": ".py",
   "mimetype": "text/x-python",
   "name": "python",
   "nbconvert_exporter": "python",
   "pygments_lexer": "ipython3",
   "version": "3.6.2"
  }
 },
 "nbformat": 4,
 "nbformat_minor": 2
}
